{
  "nbformat": 4,
  "nbformat_minor": 0,
  "metadata": {
    "colab": {
      "provenance": [],
      "authorship_tag": "ABX9TyMpSy/fHWTtGfBTAppROxHb",
      "include_colab_link": true
    },
    "kernelspec": {
      "name": "python3",
      "display_name": "Python 3"
    },
    "language_info": {
      "name": "python"
    }
  },
  "cells": [
    {
      "cell_type": "markdown",
      "metadata": {
        "id": "view-in-github",
        "colab_type": "text"
      },
      "source": [
        "<a href=\"https://colab.research.google.com/github/Maha179/HOPEAI_PROJECTS/blob/main/Assignment_1_Control_Structures_Question.ipynb\" target=\"_parent\"><img src=\"https://colab.research.google.com/assets/colab-badge.svg\" alt=\"Open In Colab\"/></a>"
      ]
    },
    {
      "cell_type": "code",
      "execution_count": 1,
      "metadata": {
        "colab": {
          "base_uri": "https://localhost:8080/"
        },
        "id": "J88ZCVQOVHdk",
        "outputId": "887ac11c-2f21-41a1-fc4c-cfcb1caf989d"
      },
      "outputs": [
        {
          "output_type": "stream",
          "name": "stdout",
          "text": [
            " Welcome to Assignment-1\n"
          ]
        }
      ],
      "source": [
        "print(\" Welcome to Assignment-1\")"
      ]
    },
    {
      "cell_type": "code",
      "source": [
        "Num1= 10\n",
        "Num2= 30\n",
        "Add = Num1 + Num2\n",
        "print(\"Sum of Num1\",Num1,\"and Num2\",Num2,\"is\", Add)"
      ],
      "metadata": {
        "colab": {
          "base_uri": "https://localhost:8080/"
        },
        "id": "lq8EmI8VVNZ5",
        "outputId": "aa425748-d4ff-4d30-f4fd-fe948154860a"
      },
      "execution_count": 3,
      "outputs": [
        {
          "output_type": "stream",
          "name": "stdout",
          "text": [
            "Sum of Num1 10 and Num2 30 is 40\n"
          ]
        }
      ]
    },
    {
      "cell_type": "code",
      "source": [],
      "metadata": {
        "colab": {
          "base_uri": "https://localhost:8080/"
        },
        "id": "kNmkGUCVYrSB",
        "outputId": "f5ea08aa-ce62-4524-a5c9-d7a588afd9aa"
      },
      "execution_count": 4,
      "outputs": [
        {
          "output_type": "stream",
          "name": "stdout",
          "text": [
            "Sum of Num1 {Num1} and Num2{Num2} is {Add}\n"
          ]
        }
      ]
    },
    {
      "cell_type": "markdown",
      "source": [],
      "metadata": {
        "id": "gTsmBktFV9Jv"
      }
    },
    {
      "cell_type": "markdown",
      "source": [
        "#Body Mass Index"
      ],
      "metadata": {
        "id": "6c-EfUmGV7gX"
      }
    },
    {
      "cell_type": "code",
      "source": [
        "BMI = int(input(\"Enter the BMI - \"))\n",
        "if BMI > 25 :\n",
        "    print(\"Overweight\")\n",
        "elif (BMI >= 21) and (BMI <= 25):\n",
        "   print(\"Correct Weight\")\n",
        "else:\n",
        "    print(\"Underweight\")"
      ],
      "metadata": {
        "colab": {
          "base_uri": "https://localhost:8080/"
        },
        "id": "OEmBNHPCV7CJ",
        "outputId": "1902af99-86c2-4596-ef7b-66f9b3c56bff"
      },
      "execution_count": 10,
      "outputs": [
        {
          "output_type": "stream",
          "name": "stdout",
          "text": [
            "Enter the BMI - 19\n",
            "Underweight\n"
          ]
        }
      ]
    }
  ]
}