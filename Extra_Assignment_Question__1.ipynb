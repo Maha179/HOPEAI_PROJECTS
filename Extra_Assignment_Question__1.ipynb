{
  "nbformat": 4,
  "nbformat_minor": 0,
  "metadata": {
    "colab": {
      "provenance": [],
      "authorship_tag": "ABX9TyPSS2Y57Fwd8GAA31TCkd4z",
      "include_colab_link": true
    },
    "kernelspec": {
      "name": "python3",
      "display_name": "Python 3"
    },
    "language_info": {
      "name": "python"
    }
  },
  "cells": [
    {
      "cell_type": "markdown",
      "metadata": {
        "id": "view-in-github",
        "colab_type": "text"
      },
      "source": [
        "<a href=\"https://colab.research.google.com/github/Maha179/HOPEAI_PROJECTS/blob/main/Extra_Assignment_Question__1.ipynb\" target=\"_parent\"><img src=\"https://colab.research.google.com/assets/colab-badge.svg\" alt=\"Open In Colab\"/></a>"
      ]
    },
    {
      "cell_type": "code",
      "execution_count": 1,
      "metadata": {
        "colab": {
          "base_uri": "https://localhost:8080/"
        },
        "id": "QvT-_kK88B_P",
        "outputId": "a63b7d39-0e8a-4670-93d9-2e6f3ef98a0e"
      },
      "outputs": [
        {
          "output_type": "stream",
          "name": "stdout",
          "text": [
            "HOPEAI\n"
          ]
        }
      ],
      "source": [
        "#print Statement\n",
        "print(\"HOPEAI\")"
      ]
    },
    {
      "cell_type": "code",
      "source": [
        " # Buy input\n",
        "nameofinstitute  = input(\"Enter your institute name? \")\n",
        "print(nameofinstitute)"
      ],
      "metadata": {
        "colab": {
          "base_uri": "https://localhost:8080/"
        },
        "id": "3NeuXDGs8QZI",
        "outputId": "9d3d0fb2-2d6d-4155-8fdf-dc5e87771445"
      },
      "execution_count": 22,
      "outputs": [
        {
          "output_type": "stream",
          "name": "stdout",
          "text": [
            "Enter your institute name? HOPE AI\n",
            "HOPE AI\n"
          ]
        }
      ]
    },
    {
      "cell_type": "code",
      "source": [
        " # Buy inputs\n",
        "name = input(\"Enter your name: \")\n",
        "age = int(input(\"Enter your age: \"))\n",
        "school = input(\"Enter your school name: \")\n",
        "degree = input(\"Enter your degree: \")\n",
        "print(\"Name=\",name,\"\\nAge:\",age,\"\\nSchool:\",school,\"\\nDegree:\",degree)\n",
        "\n",
        "\n",
        "\n",
        "\n",
        "\n",
        "\n"
      ],
      "metadata": {
        "colab": {
          "base_uri": "https://localhost:8080/"
        },
        "id": "uHqAkryH8paw",
        "outputId": "9b182ed6-f1db-44e1-8dfa-317e57cf7fcd"
      },
      "execution_count": 7,
      "outputs": [
        {
          "output_type": "stream",
          "name": "stdout",
          "text": [
            "Enter your name:maha\n",
            "Enter your age:35\n",
            "Enter your school name:nasd\n",
            "Enter your degree:be\n",
            "Name= maha \n",
            "Age: 35 \n",
            "School: nasd \n",
            "Degree: be\n"
          ]
        }
      ]
    },
    {
      "cell_type": "code",
      "source": [
        "#Addition\n",
        "a= 43\n",
        "b= 34\n",
        "sum  = a+b # addition of a and b\n",
        "print(sum)"
      ],
      "metadata": {
        "colab": {
          "base_uri": "https://localhost:8080/"
        },
        "id": "32gddwvB9s5C",
        "outputId": "44f921bf-69ef-4508-c5d7-3439a3ecc6f6"
      },
      "execution_count": 8,
      "outputs": [
        {
          "output_type": "stream",
          "name": "stdout",
          "text": [
            "77\n"
          ]
        }
      ]
    },
    {
      "cell_type": "code",
      "source": [
        "#Substraction\n",
        "a= 43\n",
        "b= 34\n",
        "difference = a - b\n",
        "print(difference)"
      ],
      "metadata": {
        "colab": {
          "base_uri": "https://localhost:8080/"
        },
        "id": "UNKKyRju_mzC",
        "outputId": "da1f1066-a14f-4364-d82d-ec1d7e6ba0e5"
      },
      "execution_count": 9,
      "outputs": [
        {
          "output_type": "stream",
          "name": "stdout",
          "text": [
            "9\n"
          ]
        }
      ]
    },
    {
      "cell_type": "code",
      "source": [
        "#Multiplication\n",
        "a= 63\n",
        "b= 97\n",
        "Mul = a * b\n",
        "print(Mul)\n",
        "print(a*b)"
      ],
      "metadata": {
        "colab": {
          "base_uri": "https://localhost:8080/"
        },
        "id": "x6Ri697t_vn4",
        "outputId": "d81e6296-e75d-4db1-e0d1-5e74959e0489"
      },
      "execution_count": 12,
      "outputs": [
        {
          "output_type": "stream",
          "name": "stdout",
          "text": [
            "6111\n",
            "6111\n"
          ]
        }
      ]
    },
    {
      "cell_type": "code",
      "source": [
        "#Division\n",
        "a= 76\n",
        "b= 31\n",
        "print(a/b)"
      ],
      "metadata": {
        "colab": {
          "base_uri": "https://localhost:8080/"
        },
        "id": "U1rsa1zz_-23",
        "outputId": "02f697c7-60ae-46b4-9d78-aa01a3dd19e0"
      },
      "execution_count": 13,
      "outputs": [
        {
          "output_type": "stream",
          "name": "stdout",
          "text": [
            "2.4516129032258065\n"
          ]
        }
      ]
    },
    {
      "cell_type": "code",
      "source": [
        "#Floor division\n",
        "a= 76\n",
        "b= 31\n",
        "print(int(a/b))"
      ],
      "metadata": {
        "colab": {
          "base_uri": "https://localhost:8080/"
        },
        "id": "YZXg1hdkAIRY",
        "outputId": "0147cf37-ff81-47c6-844f-e4785d49a941"
      },
      "execution_count": 14,
      "outputs": [
        {
          "output_type": "stream",
          "name": "stdout",
          "text": [
            "2\n"
          ]
        }
      ]
    },
    {
      "cell_type": "code",
      "source": [
        "#Modulo\n",
        "a= 76\n",
        "b= 31\n",
        "print(a%b)\n",
        "# another method\n",
        "modulus = a%b\n",
        "print(modulus)"
      ],
      "metadata": {
        "colab": {
          "base_uri": "https://localhost:8080/"
        },
        "id": "0PYYFhP-AZGJ",
        "outputId": "80b5dbbd-1c0e-408e-e0df-b830efedd9ab"
      },
      "execution_count": 18,
      "outputs": [
        {
          "output_type": "stream",
          "name": "stdout",
          "text": [
            "14\n",
            "14\n"
          ]
        }
      ]
    },
    {
      "cell_type": "code",
      "source": [
        "#Power\n",
        "a= 4\n",
        "b= 4\n",
        "print(pow(a,b))\n",
        "# another method\n",
        "power = pow(a,b)\n",
        "print(power)"
      ],
      "metadata": {
        "colab": {
          "base_uri": "https://localhost:8080/"
        },
        "id": "n2J1XCM_An86",
        "outputId": "461a7bfc-ec57-444c-823c-4ea2c426cb44"
      },
      "execution_count": 20,
      "outputs": [
        {
          "output_type": "stream",
          "name": "stdout",
          "text": [
            "256\n",
            "256\n"
          ]
        }
      ]
    }
  ]
}