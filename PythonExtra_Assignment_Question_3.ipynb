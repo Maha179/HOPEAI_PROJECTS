{
  "nbformat": 4,
  "nbformat_minor": 0,
  "metadata": {
    "colab": {
      "provenance": [],
      "authorship_tag": "ABX9TyOk6kMbaikiNN/fi1DQPLQl",
      "include_colab_link": true
    },
    "kernelspec": {
      "name": "python3",
      "display_name": "Python 3"
    },
    "language_info": {
      "name": "python"
    }
  },
  "cells": [
    {
      "cell_type": "markdown",
      "metadata": {
        "id": "view-in-github",
        "colab_type": "text"
      },
      "source": [
        "<a href=\"https://colab.research.google.com/github/Maha179/HOPEAI_PROJECTS/blob/main/PythonExtra_Assignment_Question_3.ipynb\" target=\"_parent\"><img src=\"https://colab.research.google.com/assets/colab-badge.svg\" alt=\"Open In Colab\"/></a>"
      ]
    },
    {
      "cell_type": "code",
      "execution_count": 4,
      "metadata": {
        "colab": {
          "base_uri": "https://localhost:8080/"
        },
        "id": "XTrifk-SSB3q",
        "outputId": "b19caf6b-517f-449e-8dd9-689821cd172b"
      },
      "outputs": [
        {
          "output_type": "stream",
          "name": "stdout",
          "text": [
            "Enter the value of I 10\n",
            "CORRECT\n"
          ]
        }
      ],
      "source": [
        "# print 'CORRECT' if i == 10\n",
        "i = int(input(\"Enter the value of I \"))\n",
        "if(i==10):\n",
        "  print(\"CORRECT\")"
      ]
    },
    {
      "cell_type": "code",
      "source": [
        " # Check the password, using if and else\n",
        "i = input(\"Enter the password \")\n",
        "if(i==\"HOPE@123\"):\n",
        "  print(\"Your password is correct \")\n"
      ],
      "metadata": {
        "colab": {
          "base_uri": "https://localhost:8080/"
        },
        "id": "5APWEObOUFR_",
        "outputId": "3d20d669-742a-4d58-875c-1a1eb4fbb3b3"
      },
      "execution_count": 5,
      "outputs": [
        {
          "output_type": "stream",
          "name": "stdout",
          "text": [
            "Enter the password HOPE@123\n",
            "Your password is correct \n"
          ]
        }
      ]
    },
    {
      "cell_type": "code",
      "source": [
        " # Catagory the people by their age like children, adult, citizen, senior citizen...\n",
        "age = int(input(\"Enter the Age \"))\n",
        "if(age > 55):\n",
        "  print(\"Senior Citizen \")\n",
        "elif(age >= 35 and age <= 55):\n",
        "  print(\"Citizen\")\n",
        "elif(age >= 18 and age < 35):\n",
        "  print(\"Adult\")\n",
        "else:\n",
        "  print(\"Child\")"
      ],
      "metadata": {
        "colab": {
          "base_uri": "https://localhost:8080/"
        },
        "id": "NM3G-9pMVEAf",
        "outputId": "c792cc57-d23a-4642-9e33-23f4b029ce11"
      },
      "execution_count": 11,
      "outputs": [
        {
          "output_type": "stream",
          "name": "stdout",
          "text": [
            "Enter the Age 12\n",
            "Child\n"
          ]
        }
      ]
    },
    {
      "cell_type": "code",
      "source": [
        " # Find whether given number is positive or negative\n",
        "num = int(input(\"Enter any number: \"))\n",
        "if(num>=0):\n",
        "  print(\"Positive\")\n",
        "else:\n",
        "  print(\"Negative\")"
      ],
      "metadata": {
        "colab": {
          "base_uri": "https://localhost:8080/"
        },
        "id": "UUEX196-W0n9",
        "outputId": "7cbc2723-627e-4c9f-8f4b-e09c9e2f2116"
      },
      "execution_count": 13,
      "outputs": [
        {
          "output_type": "stream",
          "name": "stdout",
          "text": [
            "Enter any number: -5\n",
            "Negative\n"
          ]
        }
      ]
    },
    {
      "cell_type": "code",
      "source": [
        "# Check whether the given number is divisible by 5\n",
        "num = int(input(\"Enter a number to check: \"))\n",
        "if(num%5 == 0):\n",
        "  print(\"Divisible by 5\")\n",
        "else:\n",
        "  print(\"Not Divisible by 5\")"
      ],
      "metadata": {
        "colab": {
          "base_uri": "https://localhost:8080/"
        },
        "id": "P5S1mIBkXSxu",
        "outputId": "f42e1d6c-f15d-4166-ae70-c4db1d294ebd"
      },
      "execution_count": 15,
      "outputs": [
        {
          "output_type": "stream",
          "name": "stdout",
          "text": [
            "Enter a number to check: 25\n",
            "Divisible by 5\n"
          ]
        }
      ]
    }
  ]
}