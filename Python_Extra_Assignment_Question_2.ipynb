{
  "nbformat": 4,
  "nbformat_minor": 0,
  "metadata": {
    "colab": {
      "provenance": [],
      "authorship_tag": "ABX9TyPCeB/dVw7uJh4esdj4Pwn9",
      "include_colab_link": true
    },
    "kernelspec": {
      "name": "python3",
      "display_name": "Python 3"
    },
    "language_info": {
      "name": "python"
    }
  },
  "cells": [
    {
      "cell_type": "markdown",
      "metadata": {
        "id": "view-in-github",
        "colab_type": "text"
      },
      "source": [
        "<a href=\"https://colab.research.google.com/github/Maha179/HOPEAI_PROJECTS/blob/main/Python_Extra_Assignment_Question_2.ipynb\" target=\"_parent\"><img src=\"https://colab.research.google.com/assets/colab-badge.svg\" alt=\"Open In Colab\"/></a>"
      ]
    },
    {
      "cell_type": "code",
      "execution_count": 2,
      "metadata": {
        "colab": {
          "base_uri": "https://localhost:8080/"
        },
        "id": "-NWa1_09FAyY",
        "outputId": "c57201aa-7829-42c1-8cb4-c4b6e244b4a3"
      },
      "outputs": [
        {
          "output_type": "stream",
          "name": "stdout",
          "text": [
            "0\n",
            "1\n",
            "2\n",
            "3\n",
            "4\n",
            "5\n",
            "6\n",
            "7\n",
            "8\n",
            "9\n",
            "10\n",
            "11\n",
            "12\n",
            "13\n",
            "14\n",
            "15\n",
            "16\n",
            "17\n",
            "18\n",
            "19\n"
          ]
        }
      ],
      "source": [
        "# print 0 to 20 by using range\n",
        "for i in range(20):\n",
        "  print(i)"
      ]
    },
    {
      "cell_type": "code",
      "source": [
        " # print range 10 to 20\n",
        "print(*range(10,20))"
      ],
      "metadata": {
        "colab": {
          "base_uri": "https://localhost:8080/"
        },
        "id": "-Y3ajWnuOZDe",
        "outputId": "eb54b2dc-43b8-45f7-b19f-d7b6212f0345"
      },
      "execution_count": 8,
      "outputs": [
        {
          "output_type": "stream",
          "name": "stdout",
          "text": [
            "10 11 12 13 14 15 16 17 18 19\n"
          ]
        }
      ]
    },
    {
      "cell_type": "code",
      "source": [
        "# Print number of items in the list by using 'len'\n",
        "List2 = [10, 20, 14, 55, 43, 87, 76]\n",
        "print(List2,\"\\nNumber of items in List2:\\n\",len(List2))"
      ],
      "metadata": {
        "colab": {
          "base_uri": "https://localhost:8080/"
        },
        "id": "_7IZZiVIPHxe",
        "outputId": "ef9b314f-49f9-4682-bcc7-2af4784d8c80"
      },
      "execution_count": 13,
      "outputs": [
        {
          "output_type": "stream",
          "name": "stdout",
          "text": [
            "[10, 20, 14, 55, 43, 87, 76] \n",
            "Number of items in List2:\n",
            " 7\n"
          ]
        }
      ]
    }
  ]
}